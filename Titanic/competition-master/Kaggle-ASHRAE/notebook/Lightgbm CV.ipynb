{
 "cells": [
  {
   "cell_type": "code",
   "execution_count": 1,
   "metadata": {},
   "outputs": [],
   "source": [
    "import pandas as pd\n",
    "import numpy as np\n",
    "from sklearn.metrics import mean_squared_log_error\n",
    "from sklearn.preprocessing import LabelEncoder\n",
    "from sklearn.model_selection import GroupKFold, KFold\n",
    "import lightgbm as lgb\n",
    "import matplotlib.pyplot as plt\n",
    "import seaborn as sns\n",
    "from tqdm import tqdm\n",
    "from pathlib import Path\n",
    "import random\n",
    "import warnings\n",
    "\n",
    "warnings.filterwarnings('ignore')"
   ]
  },
  {
   "cell_type": "code",
   "execution_count": 2,
   "metadata": {},
   "outputs": [],
   "source": [
    "root_path = Path('/home/zhouzr/project/competition/Kaggle-ASHRAE/data/')\n",
    "train = pd.read_pickle(root_path / 'train.pkl')\n",
    "test  = pd.read_pickle(root_path / 'test.pkl')\n",
    "weather_train = pd.read_pickle(root_path / 'weather_train.pkl')\n",
    "weather_test = pd.read_pickle(root_path / 'weather_test.pkl')\n",
    "meta = pd.read_pickle(root_path / 'building_metadata.pkl')\n",
    "sample_submission = pd.read_pickle(root_path / 'sample_submission.pkl')"
   ]
  },
  {
   "cell_type": "markdown",
   "metadata": {},
   "source": [
    "## Config"
   ]
  },
  {
   "cell_type": "code",
   "execution_count": 3,
   "metadata": {},
   "outputs": [],
   "source": [
    "seed = 42\n",
    "use_log1p_target = True\n",
    "n_folds = 2\n",
    "\n",
    "param = {\n",
    "            'boosting_type': 'gbdt',\n",
    "            'objective': 'regression',\n",
    "            'metric': {'rmse'},\n",
    "            'subsample': 0.4,\n",
    "            'subsample_freq': 1,\n",
    "            'learning_rate': 0.25,\n",
    "            'num_leaves': 31,\n",
    "            'feature_fraction': 0.8,\n",
    "            'lambda_l1': 1,\n",
    "            'lambda_l2': 1\n",
    "            }\n",
    "features = []\n",
    "categorical_features = ['site_id', 'building_id', 'primary_use', 'hour', 'weekday', 'meter',  'wind_direction']\n",
    "numerical_features = ['square_feet', 'year_built', 'air_temperature', 'cloud_coverage',\n",
    "              'dew_temperature', 'precip_depth_1_hr', 'floor_count']\n",
    "\n",
    "features = numerical_features + categorical_features"
   ]
  },
  {
   "cell_type": "markdown",
   "metadata": {},
   "source": [
    "## Metrics"
   ]
  },
  {
   "cell_type": "code",
   "execution_count": 4,
   "metadata": {},
   "outputs": [],
   "source": [
    "def rmsle(y_true, y_pred):\n",
    "    y_true[y_true<=0] = 0\n",
    "    y_pred[y_pred<0] = 0\n",
    "    return np.sqrt(mean_squared_log_error(y_true, y_pred))\n",
    "\n",
    "def lgb_rmsle(y_pred, dataset):\n",
    "    y_true = dataset.label\n",
    "    if use_log1p_target:\n",
    "        y_pred = np.expm1(y_pred)\n",
    "        y_true = np.expm1(y_true)\n",
    "    y_pred[y_pred < 0] = 0.\n",
    "    metric_score = rmsle(y_true, y_pred)\n",
    "    is_higher_better = False\n",
    "    metric_name = 'rmsle'\n",
    "    return metric_name, metric_score, is_higher_better"
   ]
  },
  {
   "cell_type": "markdown",
   "metadata": {},
   "source": [
    "## Processing"
   ]
  },
  {
   "cell_type": "code",
   "execution_count": 5,
   "metadata": {},
   "outputs": [],
   "source": [
    "primary_use_encoder = LabelEncoder()\n",
    "meta['primary_use'] = primary_use_encoder.fit_transform(meta['primary_use'])"
   ]
  },
  {
   "cell_type": "code",
   "execution_count": 6,
   "metadata": {},
   "outputs": [],
   "source": [
    "if use_log1p_target:\n",
    "    train['meter_reading'] = np.log1p(train['meter_reading'])"
   ]
  },
  {
   "cell_type": "code",
   "execution_count": 7,
   "metadata": {},
   "outputs": [],
   "source": [
    "train = train.merge(meta, on='building_id', how='left')\n",
    "test = test.merge(meta, on='building_id', how='left')\n",
    "train = train.merge(weather_train, on=['site_id', 'timestamp'], how='left')\n",
    "test = test.merge(weather_test, on=['site_id', 'timestamp'], how='left')"
   ]
  },
  {
   "cell_type": "code",
   "execution_count": 8,
   "metadata": {},
   "outputs": [],
   "source": [
    "def transform(x):\n",
    "    # time feature\n",
    "    x['weekday'] = np.int8(x.timestamp.dt.weekday)\n",
    "    x['hour'] = np.int8(x.timestamp.dt.hour)\n",
    "    x['month'] = np.int8(x.timestamp.dt.month)\n",
    "    return x\n",
    "\n",
    "train = transform(train)\n",
    "test = transform(test)"
   ]
  },
  {
   "cell_type": "markdown",
   "metadata": {},
   "source": [
    "## CV"
   ]
  },
  {
   "cell_type": "code",
   "execution_count": 55,
   "metadata": {},
   "outputs": [],
   "source": [
    "def cv(df, features, categorical_features, n_folds, param, verbose=50):\n",
    "    kf = GroupKFold(n_splits=n_folds)\n",
    "    group_map = dict(zip(np.arange(1, 13), \n",
    "                     pd.cut(np.arange(1, 13), n_folds, labels=np.arange(n_folds))))\n",
    "    group = df.timestamp.dt.month.map(group_map)\n",
    "    \n",
    "    \n",
    "    models = []\n",
    "    train_scores = []\n",
    "    valid_scores = []\n",
    "    \n",
    "    for train_index, val_index in kf.split(df, df['building_id'], groups=group):\n",
    "        train_X, train_y = df[features].iloc[train_index], df['meter_reading'].iloc[train_index]\n",
    "        val_X, val_y = df[features].iloc[val_index], df['meter_reading'].iloc[val_index]\n",
    "        \n",
    "        lgb_train = lgb.Dataset(train_X, train_y, categorical_feature=categorical_features)\n",
    "        lgb_eval = lgb.Dataset(val_X, val_y, categorical_feature=categorical_features)\n",
    "        gbm = lgb.train(param,\n",
    "                    lgb_train,\n",
    "                    num_boost_round=500,\n",
    "                    valid_sets=(lgb_train, lgb_eval),\n",
    "                    early_stopping_rounds=50,\n",
    "                    verbose_eval = verbose, feval=lgb_rmsle)\n",
    "        \n",
    "        train_preds = gbm.predict(train_X)\n",
    "        if use_log1p_target:\n",
    "            train_preds = np.expm1(train_preds)\n",
    "            train_y = np.expm1(train_y)\n",
    "        train_scores.append(rmsle(train_y, train_preds))\n",
    "        \n",
    "        valid_preds = gbm.predict(val_X)\n",
    "        if use_log1p_target:\n",
    "            valid_preds = np.expm1(valid_preds)\n",
    "            val_y = np.expm1(val_y)\n",
    "        valid_scores.append(rmsle(val_y, valid_preds))\n",
    "        \n",
    "        models.append(gbm)\n",
    "        \n",
    "    print('-' * 40 + 'cv finished!' + '-' * 40)\n",
    "    print('-' * 40 + 'cv finished!' + '-' * 40)\n",
    "    print('-' * 40 + 'cv finished!' + '-' * 40)\n",
    "    print(f'train: {np.mean(train_scores): .3f}, valid: {np.mean(valid_scores): .3f}')\n",
    "    return train_scores, valid_scores, models"
   ]
  },
  {
   "cell_type": "code",
   "execution_count": 56,
   "metadata": {
    "scrolled": false
   },
   "outputs": [
    {
     "name": "stdout",
     "output_type": "stream",
     "text": [
      "Training until validation scores don't improve for 50 rounds\n",
      "[50]\ttraining's rmse: 0.919538\ttraining's rmsle: 0.919063\tvalid_1's rmse: 1.35733\tvalid_1's rmsle: 1.35524\n",
      "[100]\ttraining's rmse: 0.87654\ttraining's rmsle: 0.875829\tvalid_1's rmse: 1.35148\tvalid_1's rmsle: 1.34877\n",
      "[150]\ttraining's rmse: 0.850931\ttraining's rmsle: 0.850021\tvalid_1's rmse: 1.35102\tvalid_1's rmsle: 1.34781\n",
      "[200]\ttraining's rmse: 0.835636\ttraining's rmsle: 0.834609\tvalid_1's rmse: 1.3491\tvalid_1's rmsle: 1.34545\n",
      "[250]\ttraining's rmse: 0.820568\ttraining's rmsle: 0.819366\tvalid_1's rmse: 1.34951\tvalid_1's rmsle: 1.34518\n",
      "Early stopping, best iteration is:\n",
      "[205]\ttraining's rmse: 0.834251\ttraining's rmsle: 0.833211\tvalid_1's rmse: 1.34837\tvalid_1's rmsle: 1.34471\n",
      "Training until validation scores don't improve for 50 rounds\n",
      "[50]\ttraining's rmse: 0.983034\ttraining's rmsle: 0.982909\tvalid_1's rmse: 1.52948\tvalid_1's rmsle: 1.52938\n",
      "[100]\ttraining's rmse: 0.91699\ttraining's rmsle: 0.916576\tvalid_1's rmse: 1.51576\tvalid_1's rmsle: 1.51544\n",
      "[150]\ttraining's rmse: 0.888249\ttraining's rmsle: 0.887621\tvalid_1's rmse: 1.51384\tvalid_1's rmsle: 1.51332\n",
      "Early stopping, best iteration is:\n",
      "[149]\ttraining's rmse: 0.888524\ttraining's rmsle: 0.887898\tvalid_1's rmse: 1.51347\tvalid_1's rmsle: 1.51294\n",
      "----------------------------------------cv finished!----------------------------------------\n",
      "----------------------------------------cv finished!----------------------------------------\n",
      "----------------------------------------cv finished!----------------------------------------\n",
      "train:  0.861, valid:  1.429\n"
     ]
    }
   ],
   "source": [
    "train_scores, valid_scores, models = cv(train, features, categorical_features, 2, param)"
   ]
  },
  {
   "cell_type": "code",
   "execution_count": null,
   "metadata": {},
   "outputs": [],
   "source": []
  }
 ],
 "metadata": {
  "kernelspec": {
   "display_name": "Python 3",
   "language": "python",
   "name": "python3"
  },
  "language_info": {
   "codemirror_mode": {
    "name": "ipython",
    "version": 3
   },
   "file_extension": ".py",
   "mimetype": "text/x-python",
   "name": "python",
   "nbconvert_exporter": "python",
   "pygments_lexer": "ipython3",
   "version": "3.7.4"
  }
 },
 "nbformat": 4,
 "nbformat_minor": 2
}
