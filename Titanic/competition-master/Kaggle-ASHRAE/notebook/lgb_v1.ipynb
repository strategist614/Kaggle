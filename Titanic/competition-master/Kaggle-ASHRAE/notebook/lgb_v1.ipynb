{
 "cells": [
  {
   "cell_type": "code",
   "execution_count": 2,
   "metadata": {},
   "outputs": [],
   "source": [
    "import pandas as pd\n",
    "import numpy as np\n",
    "from sklearn.metrics import mean_squared_log_error\n",
    "from sklearn.preprocessing import LabelEncoder\n",
    "from sklearn.model_selection import GroupKFold\n",
    "import lightgbm as lgb\n",
    "import matplotlib.pyplot as plt\n",
    "import seaborn as sns\n",
    "from tqdm import tqdm\n",
    "from pathlib import Path\n",
    "import random\n",
    "\n",
    "%matplotlib inline"
   ]
  },
  {
   "cell_type": "code",
   "execution_count": 3,
   "metadata": {},
   "outputs": [],
   "source": [
    "root_path = Path('/home/zhouzr/project/competition/Kaggle-ASHRAE/ashrae/')\n",
    "train = pd.read_pickle(root_path / 'train.pkl')\n",
    "test  = pd.read_pickle(root_path / 'test.pkl')\n",
    "weather_train = pd.read_pickle(root_path / 'weather_train.pkl')\n",
    "weather_test = pd.read_pickle(root_path / 'weather_test.pkl')\n",
    "meta = pd.read_pickle(root_path / 'building_metadata.pkl')\n",
    "sample_submission = pd.read_pickle(root_path / 'sample_submission.pkl')"
   ]
  },
  {
   "cell_type": "code",
   "execution_count": 44,
   "metadata": {},
   "outputs": [],
   "source": [
    "def rmsle(y_true, y_pred):\n",
    "    return np.sqrt(mean_squared_log_error(y_true, y_pred))\n",
    "\n",
    "def plot_building(building_id):\n",
    "    f = plt.figure(figsize=(12, 6))\n",
    "    for meter, group in train[train.building_id == building_id].groupby('meter'):\n",
    "        group.set_index('timestamp')['meter_reading'].plot(label=meter)\n",
    "    plt.legend()"
   ]
  },
  {
   "cell_type": "code",
   "execution_count": 5,
   "metadata": {},
   "outputs": [],
   "source": [
    "def fill_missing_time(x, freq):\n",
    "    size = x.shape[0]\n",
    "    full = x.resample(freq).asfreq().reset_index()\n",
    "    size_full = full.shape[0]\n",
    "    print(f'add {size_full - size} time.')\n",
    "    return full"
   ]
  },
  {
   "cell_type": "code",
   "execution_count": 6,
   "metadata": {},
   "outputs": [],
   "source": [
    "def processing_meta(x):\n",
    "    x = x.fillna(x.median())\n",
    "    le = LabelEncoder()\n",
    "    x['primary_use'] = le.fit_transform(x['primary_use'])\n",
    "    return x"
   ]
  },
  {
   "cell_type": "code",
   "execution_count": 7,
   "metadata": {},
   "outputs": [],
   "source": [
    "meta = processing_meta(meta)"
   ]
  },
  {
   "cell_type": "code",
   "execution_count": 8,
   "metadata": {},
   "outputs": [],
   "source": [
    "train = train.merge(meta, on='building_id', how='left')\n",
    "test = test.merge(meta, on='building_id', how='left')\n",
    "train = train.merge(weather_train, on=['site_id', 'timestamp'], how='left')\n",
    "test = test.merge(weather_test, on=['site_id', 'timestamp'], how='left')"
   ]
  },
  {
   "cell_type": "code",
   "execution_count": 56,
   "metadata": {},
   "outputs": [],
   "source": [
    "def transform(x):\n",
    "    # time feature\n",
    "    x['weekday'] = np.int8(x.timestamp.dt.weekday)\n",
    "    x['hour'] = np.int8(x.timestamp.dt.hour)\n",
    "    x['month'] = np.int8(x.timestamp.dt.month)\n",
    "    return x\n",
    "\n",
    "train = transform(train)\n",
    "test = transform(test)"
   ]
  },
  {
   "cell_type": "code",
   "execution_count": 20,
   "metadata": {},
   "outputs": [],
   "source": [
    "categoricals = ['site_id', 'building_id', 'primary_use', 'hour', 'weekday', 'meter',  'wind_direction']\n",
    "drop_cols = ['sea_level_pressure', 'wind_speed']\n",
    "numericals = ['square_feet', 'year_built', 'air_temperature', 'cloud_coverage',\n",
    "              'dew_temperature', 'precip_depth_1_hr', 'floor_count']\n",
    "\n",
    "features = categoricals + numericals"
   ]
  },
  {
   "cell_type": "code",
   "execution_count": 12,
   "metadata": {},
   "outputs": [],
   "source": [
    "train['group'] = train['month'].apply(lambda x: 1 if x in [1,2,3,4,5,6] else 2)"
   ]
  },
  {
   "cell_type": "code",
   "execution_count": 24,
   "metadata": {},
   "outputs": [],
   "source": [
    "train['meter_reading'] = np.log1p(train['meter_reading'])\n",
    "target = train.meter_reading"
   ]
  },
  {
   "cell_type": "code",
   "execution_count": 36,
   "metadata": {},
   "outputs": [],
   "source": [
    "params = {\n",
    "            'boosting_type': 'gbdt',\n",
    "            'objective': 'regression',\n",
    "            'metric': {'rmse'},\n",
    "            'subsample': 0.4,\n",
    "            'subsample_freq': 1,\n",
    "            'learning_rate': 0.25,\n",
    "            'num_leaves': 31,\n",
    "            'feature_fraction': 0.8,\n",
    "            'lambda_l1': 1,\n",
    "            'lambda_l2': 1\n",
    "            }\n",
    "\n",
    "folds = 2\n",
    "seed = 666\n",
    "use_log1p_target = True"
   ]
  },
  {
   "cell_type": "code",
   "execution_count": 51,
   "metadata": {},
   "outputs": [],
   "source": [
    "def lgb_rmsle(y_pred, dataset):\n",
    "    y_true = dataset.label\n",
    "    if use_log1p_target:\n",
    "        y_pred = np.expm1(y_pred)\n",
    "        y_true = np.expm1(y_true)\n",
    "    y_pred[y_pred < 0] = 0.\n",
    "    metric_score = rmsle(y_true, y_pred)\n",
    "    is_higher_better = False\n",
    "    metric_name = 'rmsle'\n",
    "    return metric_name, metric_score, False"
   ]
  },
  {
   "cell_type": "code",
   "execution_count": 52,
   "metadata": {},
   "outputs": [
    {
     "name": "stderr",
     "output_type": "stream",
     "text": [
      "C:\\Users\\evilp\\AppData\\Local\\Continuum\\anaconda3\\envs\\dl\\lib\\site-packages\\lightgbm\\basic.py:1205: UserWarning: Using categorical_feature in Dataset.\n",
      "  warnings.warn('Using categorical_feature in Dataset.')\n",
      "C:\\Users\\evilp\\AppData\\Local\\Continuum\\anaconda3\\envs\\dl\\lib\\site-packages\\lightgbm\\basic.py:762: UserWarning: categorical_feature in param dict is overridden.\n",
      "  warnings.warn('categorical_feature in param dict is overridden.')\n"
     ]
    },
    {
     "name": "stdout",
     "output_type": "stream",
     "text": [
      "Training until validation scores don't improve for 100 rounds.\n",
      "[100]\ttraining's rmse: 0.865849\ttraining's rmsle: 0.865149\tvalid_1's rmse: 1.34756\tvalid_1's rmsle: 1.34489\n",
      "[200]\ttraining's rmse: 0.828687\ttraining's rmsle: 0.827691\tvalid_1's rmse: 1.34742\tvalid_1's rmsle: 1.34366\n",
      "Early stopping, best iteration is:\n",
      "[175]\ttraining's rmse: 0.837273\ttraining's rmsle: 0.836367\tvalid_1's rmse: 1.3458\tvalid_1's rmsle: 1.34241\n"
     ]
    },
    {
     "name": "stderr",
     "output_type": "stream",
     "text": [
      "C:\\Users\\evilp\\AppData\\Local\\Continuum\\anaconda3\\envs\\dl\\lib\\site-packages\\lightgbm\\basic.py:1205: UserWarning: Using categorical_feature in Dataset.\n",
      "  warnings.warn('Using categorical_feature in Dataset.')\n",
      "C:\\Users\\evilp\\AppData\\Local\\Continuum\\anaconda3\\envs\\dl\\lib\\site-packages\\lightgbm\\basic.py:762: UserWarning: categorical_feature in param dict is overridden.\n",
      "  warnings.warn('categorical_feature in param dict is overridden.')\n"
     ]
    },
    {
     "name": "stdout",
     "output_type": "stream",
     "text": [
      "Training until validation scores don't improve for 100 rounds.\n",
      "[100]\ttraining's rmse: 0.901561\ttraining's rmsle: 0.900921\tvalid_1's rmse: 1.51034\tvalid_1's rmsle: 1.50966\n",
      "[200]\ttraining's rmse: 0.854778\ttraining's rmsle: 0.853698\tvalid_1's rmse: 1.50848\tvalid_1's rmsle: 1.50756\n",
      "[300]\ttraining's rmse: 0.829976\ttraining's rmsle: 0.828641\tvalid_1's rmse: 1.509\tvalid_1's rmsle: 1.50782\n",
      "Early stopping, best iteration is:\n",
      "[249]\ttraining's rmse: 0.842644\ttraining's rmsle: 0.841443\tvalid_1's rmse: 1.50738\tvalid_1's rmsle: 1.50635\n"
     ]
    }
   ],
   "source": [
    "kf = GroupKFold(n_splits=folds)\n",
    "\n",
    "models = []\n",
    "for train_index, val_index in kf.split(train, train['building_id'], groups=train['group']):\n",
    "#     train_X, train_y = full_train_df[feat_cols].loc[train_index], full_train_df['meter_reading'][train_index]\n",
    "#     val_X, val_y = full_train_df[feat_cols].loc[val_index], full_train_df['meter_reading'][val_index]\n",
    "    train_X = train[features].iloc[train_index]\n",
    "    val_X = train[features].iloc[val_index]\n",
    "    train_y = target.iloc[train_index]\n",
    "    val_y = target.iloc[val_index]\n",
    "    lgb_train = lgb.Dataset(train_X, train_y, categorical_feature=categoricals)\n",
    "    lgb_eval = lgb.Dataset(val_X, val_y, categorical_feature=categoricals)\n",
    "    gbm = lgb.train(params,\n",
    "                lgb_train,\n",
    "                num_boost_round=500,\n",
    "                valid_sets=(lgb_train, lgb_eval),\n",
    "                early_stopping_rounds=100,\n",
    "                verbose_eval = 100, feval=lgb_rmsle)\n",
    "    models.append(gbm)"
   ]
  },
  {
   "cell_type": "code",
   "execution_count": null,
   "metadata": {},
   "outputs": [],
   "source": [
    "def predict_submission(models, test, features, categoricals, sample_submission):\n",
    "    test = test[features]\n",
    "    \n",
    "    i=0\n",
    "    res=[]\n",
    "    step_size = 50000\n",
    "    for j in tqdm(range(int(np.ceil(test.shape[0]/50000)))):\n",
    "        res.append(np.expm1(sum([model.predict(test.iloc[i:i+step_size]) for model in models])/folds))\n",
    "        i+=step_size\n",
    "    res = np.concatenate(res)\n",
    "    \n",
    "    submission['meter_reading'] = res\n",
    "    submission.loc[submission['meter_reading']<0, 'meter_reading'] = 0\n",
    "    return submission"
   ]
  },
  {
   "cell_type": "code",
   "execution_count": 62,
   "metadata": {},
   "outputs": [],
   "source": [
    "test = test[features]"
   ]
  },
  {
   "cell_type": "code",
   "execution_count": 66,
   "metadata": {},
   "outputs": [
    {
     "name": "stderr",
     "output_type": "stream",
     "text": [
      "100%|██████████| 834/834 [06:46<00:00,  2.05it/s]\n"
     ]
    }
   ],
   "source": [
    "i=0\n",
    "res=[]\n",
    "step_size = 50000\n",
    "for j in tqdm(range(int(np.ceil(test.shape[0]/50000)))):\n",
    "    res.append(np.expm1(sum([model.predict(test.iloc[i:i+step_size]) for model in models])/folds))\n",
    "    i+=step_size\n",
    "res = np.concatenate(res)"
   ]
  },
  {
   "cell_type": "code",
   "execution_count": 74,
   "metadata": {},
   "outputs": [
    {
     "data": {
      "text/html": [
       "<div>\n",
       "<style scoped>\n",
       "    .dataframe tbody tr th:only-of-type {\n",
       "        vertical-align: middle;\n",
       "    }\n",
       "\n",
       "    .dataframe tbody tr th {\n",
       "        vertical-align: top;\n",
       "    }\n",
       "\n",
       "    .dataframe thead th {\n",
       "        text-align: right;\n",
       "    }\n",
       "</style>\n",
       "<table border=\"1\" class=\"dataframe\">\n",
       "  <thead>\n",
       "    <tr style=\"text-align: right;\">\n",
       "      <th></th>\n",
       "      <th>row_id</th>\n",
       "      <th>meter_reading</th>\n",
       "    </tr>\n",
       "  </thead>\n",
       "  <tbody>\n",
       "    <tr>\n",
       "      <th>0</th>\n",
       "      <td>0</td>\n",
       "      <td>12.961639</td>\n",
       "    </tr>\n",
       "    <tr>\n",
       "      <th>1</th>\n",
       "      <td>1</td>\n",
       "      <td>8.944360</td>\n",
       "    </tr>\n",
       "    <tr>\n",
       "      <th>2</th>\n",
       "      <td>2</td>\n",
       "      <td>1.621931</td>\n",
       "    </tr>\n",
       "    <tr>\n",
       "      <th>3</th>\n",
       "      <td>3</td>\n",
       "      <td>17.008028</td>\n",
       "    </tr>\n",
       "    <tr>\n",
       "      <th>4</th>\n",
       "      <td>4</td>\n",
       "      <td>29.350501</td>\n",
       "    </tr>\n",
       "    <tr>\n",
       "      <th>...</th>\n",
       "      <td>...</td>\n",
       "      <td>...</td>\n",
       "    </tr>\n",
       "    <tr>\n",
       "      <th>41697595</th>\n",
       "      <td>41697595</td>\n",
       "      <td>6.003793</td>\n",
       "    </tr>\n",
       "    <tr>\n",
       "      <th>41697596</th>\n",
       "      <td>41697596</td>\n",
       "      <td>5.556120</td>\n",
       "    </tr>\n",
       "    <tr>\n",
       "      <th>41697597</th>\n",
       "      <td>41697597</td>\n",
       "      <td>2.623019</td>\n",
       "    </tr>\n",
       "    <tr>\n",
       "      <th>41697598</th>\n",
       "      <td>41697598</td>\n",
       "      <td>129.610636</td>\n",
       "    </tr>\n",
       "    <tr>\n",
       "      <th>41697599</th>\n",
       "      <td>41697599</td>\n",
       "      <td>3.412682</td>\n",
       "    </tr>\n",
       "  </tbody>\n",
       "</table>\n",
       "<p>41697600 rows × 2 columns</p>\n",
       "</div>"
      ],
      "text/plain": [
       "            row_id  meter_reading\n",
       "0                0      12.961639\n",
       "1                1       8.944360\n",
       "2                2       1.621931\n",
       "3                3      17.008028\n",
       "4                4      29.350501\n",
       "...            ...            ...\n",
       "41697595  41697595       6.003793\n",
       "41697596  41697596       5.556120\n",
       "41697597  41697597       2.623019\n",
       "41697598  41697598     129.610636\n",
       "41697599  41697599       3.412682\n",
       "\n",
       "[41697600 rows x 2 columns]"
      ]
     },
     "execution_count": 74,
     "metadata": {},
     "output_type": "execute_result"
    }
   ],
   "source": [
    "submission = pd.read_pickle('../data/sample_submission.pkl')\n",
    "submission['meter_reading'] = res\n",
    "submission.loc[submission['meter_reading']<0, 'meter_reading'] = 0\n",
    "# submission.to_csv('submission_fe_lgbm.csv', index=False)\n",
    "submission"
   ]
  },
  {
   "cell_type": "code",
   "execution_count": 75,
   "metadata": {},
   "outputs": [],
   "source": [
    "preds = submission.meter_reading"
   ]
  },
  {
   "cell_type": "code",
   "execution_count": 89,
   "metadata": {},
   "outputs": [
    {
     "data": {
      "text/plain": [
       "<matplotlib.axes._subplots.AxesSubplot at 0x21d09b43ef0>"
      ]
     },
     "execution_count": 89,
     "metadata": {},
     "output_type": "execute_result"
    },
    {
     "data": {
      "image/png": "[encoded data removed]",
      "text/plain": [
       "<Figure size 432x288 with 1 Axes>"
      ]
     },
     "metadata": {
      "needs_background": "light"
     },
     "output_type": "display_data"
    }
   ],
   "source": [
    "sns.distplot(np.clip(np.log1p(preds.sample(10000)), -100, 10000))\n",
    "sns.distplot(np.clip(target.sample(10000), 0, 10000))"
   ]
  }
 ],
 "metadata": {
  "kernelspec": {
   "display_name": "Python 3",
   "language": "python",
   "name": "python3"
  },
  "language_info": {
   "codemirror_mode": {
    "name": "ipython",
    "version": 3
   },
   "file_extension": ".py",
   "mimetype": "text/x-python",
   "name": "python",
   "nbconvert_exporter": "python",
   "pygments_lexer": "ipython3",
   "version": "3.7.4"
  }
 },
 "nbformat": 4,
 "nbformat_minor": 2
}
