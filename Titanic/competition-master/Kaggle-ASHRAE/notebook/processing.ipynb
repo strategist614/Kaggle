{
 "cells": [
  {
   "cell_type": "code",
   "execution_count": 1,
   "metadata": {},
   "outputs": [],
   "source": [
    "import pandas as pd\n",
    "import numpy as np"
   ]
  },
  {
   "cell_type": "code",
   "execution_count": 2,
   "metadata": {},
   "outputs": [],
   "source": [
    "def reduce_mem_usage(df, verbose=True):\n",
    "    numerics = ['int16', 'int32', 'int64', 'float16', 'float32', 'float64']\n",
    "    start_mem = df.memory_usage().sum() / 1024**2    \n",
    "    for col in df.columns:\n",
    "        col_type = df[col].dtypes\n",
    "        if col_type in numerics:\n",
    "            c_min = df[col].min()\n",
    "            c_max = df[col].max()\n",
    "            if str(col_type)[:3] == 'int':\n",
    "                if c_min > np.iinfo(np.int8).min and c_max < np.iinfo(np.int8).max:\n",
    "                    df[col] = df[col].astype(np.int8)\n",
    "                elif c_min > np.iinfo(np.int16).min and c_max < np.iinfo(np.int16).max:\n",
    "                    df[col] = df[col].astype(np.int16)\n",
    "                elif c_min > np.iinfo(np.int32).min and c_max < np.iinfo(np.int32).max:\n",
    "                    df[col] = df[col].astype(np.int32)\n",
    "                elif c_min > np.iinfo(np.int64).min and c_max < np.iinfo(np.int64).max:\n",
    "                    df[col] = df[col].astype(np.int64)  \n",
    "            else:\n",
    "                if c_min > np.finfo(np.float16).min and c_max < np.finfo(np.float16).max:\n",
    "                    df[col] = df[col].astype(np.float16)\n",
    "                elif c_min > np.finfo(np.float32).min and c_max < np.finfo(np.float32).max:\n",
    "                    df[col] = df[col].astype(np.float32)\n",
    "                else:\n",
    "                    df[col] = df[col].astype(np.float64)    \n",
    "    end_mem = df.memory_usage().sum() / 1024**2\n",
    "    if verbose: print('Mem. usage decreased to {:5.2f} Mb ({:.1f}% reduction)'.format(end_mem, 100 * (start_mem - end_mem) / start_mem))\n",
    "    return df"
   ]
  },
  {
   "cell_type": "code",
   "execution_count": 3,
   "metadata": {},
   "outputs": [],
   "source": [
    "import os\n",
    "import pathlib"
   ]
  },
  {
   "cell_type": "code",
   "execution_count": 5,
   "metadata": {},
   "outputs": [],
   "source": [
    "data_path = pathlib.Path('/home/zhouzr/project/competition/Kaggle-ASHRAE/ashrae/')"
   ]
  },
  {
   "cell_type": "code",
   "execution_count": 6,
   "metadata": {},
   "outputs": [
    {
     "name": "stdout",
     "output_type": "stream",
     "text": [
      "Mem. usage decreased to  3.07 Mb (68.1% reduction)\n",
      "save /home/zhouzr/project/competition/Kaggle-ASHRAE/ashrae/weather_train.pkl\n",
      "Mem. usage decreased to 198.83 Mb (68.7% reduction)\n",
      "save /home/zhouzr/project/competition/Kaggle-ASHRAE/ashrae/sample_submission.pkl\n",
      "Mem. usage decreased to  0.03 Mb (60.3% reduction)\n",
      "save /home/zhouzr/project/competition/Kaggle-ASHRAE/ashrae/building_metadata.pkl\n",
      "Mem. usage decreased to 289.19 Mb (53.1% reduction)\n",
      "save /home/zhouzr/project/competition/Kaggle-ASHRAE/ashrae/train.pkl\n",
      "Mem. usage decreased to  6.08 Mb (68.1% reduction)\n",
      "save /home/zhouzr/project/competition/Kaggle-ASHRAE/ashrae/weather_test.pkl\n",
      "Mem. usage decreased to 596.49 Mb (53.1% reduction)\n",
      "save /home/zhouzr/project/competition/Kaggle-ASHRAE/ashrae/test.pkl\n"
     ]
    }
   ],
   "source": [
    "for f in data_path.glob('*'):\n",
    "    \n",
    "    df = pd.read_csv(f)\n",
    "    if 'timestamp' in df.columns:\n",
    "        df['timestamp'] = pd.to_datetime(df['timestamp'])\n",
    "    df = reduce_mem_usage(df)\n",
    "    f = '.'.join([str(f).split('.')[0], 'pkl'])\n",
    "    print(f'save {f}')\n",
    "    df.to_pickle(f)"
   ]
  },
  {
   "cell_type": "code",
   "execution_count": null,
   "metadata": {},
   "outputs": [],
   "source": []
  }
 ],
 "metadata": {
  "kernelspec": {
   "display_name": "Python 3",
   "language": "python",
   "name": "python3"
  },
  "language_info": {
   "codemirror_mode": {
    "name": "ipython",
    "version": 3
   },
   "file_extension": ".py",
   "mimetype": "text/x-python",
   "name": "python",
   "nbconvert_exporter": "python",
   "pygments_lexer": "ipython3",
   "version": "3.7.4"
  }
 },
 "nbformat": 4,
 "nbformat_minor": 2
}
